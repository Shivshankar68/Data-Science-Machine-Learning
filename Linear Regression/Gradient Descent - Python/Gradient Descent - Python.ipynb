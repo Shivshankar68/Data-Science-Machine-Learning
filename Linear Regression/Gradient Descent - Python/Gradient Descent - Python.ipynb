{
 "cells": [
  {
   "cell_type": "markdown",
   "id": "b5febc03",
   "metadata": {},
   "source": [
    "# Gradient Descent for Linear Regression\n",
    "#### It's called as Batch Gradient Descent. Every iteration of training it uses entire training data set, therefore called as Batch Gradient Descent.\n",
    "#### Our Objective is to find the optimal value for parameters/coefficients (W- weight or slope & b - bias/intercept) by minimizing the cost function."
   ]
  },
  {
   "cell_type": "code",
   "execution_count": 89,
   "id": "b7e868b5",
   "metadata": {},
   "outputs": [],
   "source": [
    "import numpy as np\n",
    "import matplotlib.pyplot as plt"
   ]
  },
  {
   "cell_type": "markdown",
   "id": "1deff0fe",
   "metadata": {},
   "source": [
    "# Problem Statement\n",
    "\n",
    "Let's use below data point - a house with 1000 square feet sold for \\\\$300,000 and a house with 2000 square feet sold for \\\\$500,000.\n",
    "\n",
    "| Size (1000 sqft)     | Price (1000s of dollars) |\n",
    "| ----------------| ------------------------ |\n",
    "| 1               | 300                      |\n",
    "| 2               | 500                      |"
   ]
  },
  {
   "cell_type": "code",
   "execution_count": 90,
   "id": "88f10885",
   "metadata": {},
   "outputs": [],
   "source": [
    "## Prepare our data\n",
    "x_train = np.array([1.0,2.0]) # Feature\n",
    "y_train = np.array([300.0,500.0]) # Target"
   ]
  },
  {
   "cell_type": "markdown",
   "id": "3eddadbc",
   "metadata": {},
   "source": [
    "## Linear Regression For one variable/feature\n",
    "$ \\hat{y}_{w,b} = wx + b \\tag{1} $\n",
    "In linear regression, will use training data to fit the parameters $w$,$b$ by minimizing a measure of the error between our predictions $\\hat{y}_{w,b}(x^{(i)})$ and the actual data $y^{(i)}$. The measure is called the $cost$, $J(w,b)$. In training will measure the cost over all of our training samples $x^{(i)},y^{(i)}$\n",
    "$$J(w,b) = \\frac{1}{2m} \\sum\\limits_{i = 0}^{m-1} (\\hat{y}_{w,b}(x^{(i)}) - y^{(i)})^2\\tag{2}$$ "
   ]
  },
  {
   "cell_type": "code",
   "execution_count": 97,
   "id": "fc611951",
   "metadata": {},
   "outputs": [],
   "source": [
    "## Create a function that computes the cost\n",
    "def compute_cost(x,y,w,b):\n",
    "    m = x.shape[0] # Training samples\n",
    "    y_hat= w*x+b\n",
    "    cost=(1/(2 * m)) * np.sum((y_hat - y) ** 2)\n",
    "    return cost\n",
    "\n",
    "    "
   ]
  },
  {
   "cell_type": "code",
   "execution_count": 98,
   "id": "5e37c399",
   "metadata": {},
   "outputs": [
    {
     "data": {
      "text/plain": [
       "85000.0"
      ]
     },
     "execution_count": 98,
     "metadata": {},
     "output_type": "execute_result"
    }
   ],
   "source": [
    "### Let initialize the weight(w = 0.0) & bias b(b=0.0) and calculate cost\n",
    "compute_cost(x_train,y_train,0.0,0.0)"
   ]
  },
  {
   "cell_type": "markdown",
   "id": "3ef9ff4c",
   "metadata": {},
   "source": [
    "## Gradient descent summary\n",
    "#### Gradient Descent calculate the partial derivative of cost fuction with respect to each parameter(i.e. w,b) and minimize the cost, by calculating the slope at each step and determine the direction it has to take that minimize the cost\n",
    "#### Partial Derivate of cost function w.r.t 'w' eq 3:\n",
    "#### Partial Derivate of cost function w.r.t 'b' eq 4:\n",
    "$$\n",
    "\\begin{align}\n",
    "\\frac{\\partial J(w,b)}{\\partial w}  &= \\frac{1}{m} \\sum\\limits_{i = 0}^{m-1} (\\hat{y}_{w,b}(x^{(i)}) - y^{(i)})x^{(i)} \\tag{3}\\\\\n",
    "  \\frac{\\partial J(w,b)}{\\partial b}  &= \\frac{1}{m} \\sum\\limits_{i = 0}^{m-1} (\\hat{y}_{w,b}(x^{(i)}) - y^{(i)}) \\tag{4}\\\\\n",
    "\\end{align}\n",
    "$$\n",
    "\n",
    "Parameters $w$, $b$ are updated simultaneously, where $\\alpha$ is learning rate or step size\n",
    "$$\\begin{align*} \\text{repeat}&\\text{ until convergence:} \\; \\lbrace \\newline\n",
    "\\;  w &= w -  \\alpha \\frac{\\partial J(w,b)}{\\partial w} \\tag{5}  \\; \\newline \n",
    " b &= b -  \\alpha \\frac{\\partial J(w,b)}{\\partial b}  \\newline \\rbrace\n",
    "\\end{align*}$$"
   ]
  },
  {
   "cell_type": "code",
   "execution_count": 93,
   "id": "e56fb491",
   "metadata": {},
   "outputs": [],
   "source": [
    "def compute_gradient(x,y,w,b):\n",
    "    \"\"\"\n",
    "    Computes the gradient for linear regression \n",
    "    Args:\n",
    "      x (ndarray (m,)): Data, m examples \n",
    "      y (ndarray (m,)): target values\n",
    "      w,b (scalar)    : model parameters  \n",
    "    Returns\n",
    "      dj_dw (scalar): The gradient of the cost w.r.t. the parameters w\n",
    "      dj_db (scalar): The gradient of the cost w.r.t. the parameter b     \n",
    "     \"\"\"\n",
    "    m = x.shape[0]\n",
    "    y_hat= w*x + b\n",
    "    dj_dw = (1/m) * np.sum((y_hat - y) * x)\n",
    "    dj_db = (1/m) * np.sum(y_hat - y)\n",
    "    \n",
    "    return dj_dw,dj_db\n",
    "    "
   ]
  },
  {
   "cell_type": "code",
   "execution_count": 94,
   "id": "d2b21b2a",
   "metadata": {},
   "outputs": [
    {
     "data": {
      "text/plain": [
       "(250.0, 150.0)"
      ]
     },
     "execution_count": 94,
     "metadata": {},
     "output_type": "execute_result"
    }
   ],
   "source": [
    "compute_gradient(x_train,y_train,300.0,100.0)"
   ]
  },
  {
   "cell_type": "code",
   "execution_count": 109,
   "id": "464e0c65",
   "metadata": {},
   "outputs": [],
   "source": [
    "def plot_gradient(x,y,w,b=0.0):\n",
    "    cost=[]\n",
    "    grad_dw=[]\n",
    "    grad_db=[]\n",
    "    for i in w:\n",
    "        cost.append(compute_cost(x,y,i,b))\n",
    "        grad_dw.append(compute_gradient(x,y,i,b)[0])\n",
    "        grad_db.append(compute_gradient(x,y,i,b)[1])\n",
    "        \n",
    "    return cost,grad_dw,grad_db\n",
    "   \n",
    "    \n",
    "    "
   ]
  },
  {
   "cell_type": "code",
   "execution_count": 110,
   "id": "2bc835a5",
   "metadata": {},
   "outputs": [],
   "source": [
    "w=range(0,401,50)\n",
    "cost,dw,db=plot_gradient(x_train,y_train,w,b=100)"
   ]
  },
  {
   "cell_type": "code",
   "execution_count": 123,
   "id": "fd930a28",
   "metadata": {},
   "outputs": [
    {
     "data": {
      "text/plain": [
       "Text(0, 0.5, 'Cost')"
      ]
     },
     "execution_count": 123,
     "metadata": {},
     "output_type": "execute_result"
    },
    {
     "data": {
      "image/png": "[encoded data removed]",
      "text/plain": [
       "<Figure size 432x288 with 1 Axes>"
      ]
     },
     "metadata": {
      "needs_background": "light"
     },
     "output_type": "display_data"
    }
   ],
   "source": [
    "plt.plot(w,cost) # at w=200 we can see cost is minimum\n",
    "plt.title(\"Cost Vs Weight\")\n",
    "plt.xlabel(\"W\",fontsize=14)\n",
    "plt.ylabel(\"Cost\",fontsize=14)"
   ]
  },
  {
   "cell_type": "code",
   "execution_count": 175,
   "id": "80aff6c8",
   "metadata": {},
   "outputs": [],
   "source": [
    "def gradient_descent(x,y,w_in=0.0,b_in=0.0,alpha=0.01,n_iters=100):\n",
    "    j_history=[] # to store cost for each iteration\n",
    "    p_history=[] # to store values of w & b at each iteration\n",
    "    w = w_in # set w to its initial value w_in\n",
    "    b = b_in # set b to its initial value b_in\n",
    "    for i in range(n_iters): # for iteration calculate cost & compute dw & db\n",
    "        \n",
    "        dw,db = compute_gradient(x,y,w,b)\n",
    "        cost = compute_cost(x,y,w,b)    \n",
    "        # update the w & b\n",
    "        w = w - (alpha * dw)\n",
    "        b = b - (alpha * db)\n",
    "\n",
    "        if i < 100000:\n",
    "            p_history.append([w,b])\n",
    "            j_history.append(cost)\n",
    "        # print cost at each 1000 iterations\n",
    "        if i % 1000 == 0:\n",
    "            print(f\"Iteration: {i}| Cost: {cost:0.2e}| dj_dw: {dw:0.3e} | dj_db: {db:0.3e} | w: {w} | b: {b:0.5e} \")\n",
    "            \n",
    "    print(f\"Final (w,b) found by Gradient Descent at cost {j_history[-1]:0.5} are w:{w:0.5}, b: {b:0.5}\")\n",
    "    \n",
    "    return w, b, j_history,p_history\n",
    "        \n",
    "        \n",
    "    "
   ]
  },
  {
   "cell_type": "code",
   "execution_count": 177,
   "id": "eba6fc7a",
   "metadata": {},
   "outputs": [
    {
     "name": "stdout",
     "output_type": "stream",
     "text": [
      "Iteration: 0| Cost: 8.50e+04| dj_dw: -6.500e+02 | dj_db: -4.000e+02 | w: 6.5 | b: 4.00000e+00 \n",
      "Iteration: 1000| Cost: 3.42e+00| dj_dw: -3.712e-01 | dj_db: 6.007e-01 | w: 194.91482409389593 | b: 1.08228e+02 \n",
      "Iteration: 2000| Cost: 7.94e-01| dj_dw: -1.789e-01 | dj_db: 2.895e-01 | w: 197.5488109193384 | b: 1.03966e+02 \n",
      "Iteration: 3000| Cost: 1.84e-01| dj_dw: -8.625e-02 | dj_db: 1.396e-01 | w: 198.81846212990547 | b: 1.01912e+02 \n",
      "Iteration: 4000| Cost: 4.29e-02| dj_dw: -4.158e-02 | dj_db: 6.727e-02 | w: 199.43046754349498 | b: 1.00922e+02 \n",
      "Iteration: 5000| Cost: 9.96e-03| dj_dw: -2.004e-02 | dj_db: 3.243e-02 | w: 199.72547031523698 | b: 1.00444e+02 \n",
      "Iteration: 6000| Cost: 2.31e-03| dj_dw: -9.660e-03 | dj_db: 1.563e-02 | w: 199.86766944191632 | b: 1.00214e+02 \n",
      "Iteration: 7000| Cost: 5.38e-04| dj_dw: -4.657e-03 | dj_db: 7.535e-03 | w: 199.93621317629874 | b: 1.00103e+02 \n",
      "Iteration: 8000| Cost: 1.25e-04| dj_dw: -2.245e-03 | dj_db: 3.632e-03 | w: 199.9692530664359 | b: 1.00050e+02 \n",
      "Iteration: 9000| Cost: 2.90e-05| dj_dw: -1.082e-03 | dj_db: 1.751e-03 | w: 199.9851791660294 | b: 1.00024e+02 \n",
      "Final (w,b) found by Gradient Descent at cost 6.7549e-06 are w:199.99, b: 100.01\n"
     ]
    }
   ],
   "source": [
    "w_in=0.0\n",
    "b_in=0.0\n",
    "iteration=10000\n",
    "alpha= 1.0e-2\n",
    "w_final,b_final,j_history,p_history=gradient_descent(x_train,y_train,w_in,b_in,alpha,iteration)"
   ]
  },
  {
   "cell_type": "markdown",
   "id": "88e41dd8",
   "metadata": {},
   "source": [
    "## Plot Cost per iteration"
   ]
  },
  {
   "cell_type": "code",
   "execution_count": 178,
   "id": "a4c9a0dc",
   "metadata": {},
   "outputs": [
    {
     "data": {
      "image/png": "[encoded data removed]",
      "text/plain": [
       "<Figure size 864x288 with 2 Axes>"
      ]
     },
     "metadata": {
      "needs_background": "light"
     },
     "output_type": "display_data"
    }
   ],
   "source": [
    "fig,(ax1,ax2)=plt.subplots(1,2,figsize=(12,4),constrained_layout=True)\n",
    "ax1.plot(j_history[:100],linewidth=4)\n",
    "ax2.plot(1000+np.arange(len(j_history[1000:])),j_history[1000:],linewidth=4)\n",
    "ax1.set_title(\"Cost Vs Iter(First 100)\", fontsize=14)\n",
    "ax2.set_title(\"Cost Vs Iter(From 1000 to End)\",fontsize=14)\n",
    "ax1.set_xlabel(\"Iteration Step\", fontsize=14)\n",
    "ax1.set_ylabel(\"Cost\", fontsize=14)\n",
    "ax2.set_xlabel(\"Iteration Step\", fontsize=14)\n",
    "ax2.set_ylabel(\"Cost\", fontsize=14)\n",
    "plt.show()"
   ]
  },
  {
   "cell_type": "markdown",
   "id": "adbc29ea",
   "metadata": {},
   "source": [
    "### Prediction using model parameters(w & b)\n",
    "$$ \\hat{y} = w * x + b $$"
   ]
  },
  {
   "cell_type": "code",
   "execution_count": 186,
   "id": "12ec0ff1",
   "metadata": {},
   "outputs": [],
   "source": [
    "def predict(x):\n",
    "    y_hat = (w_final * x) + b_final\n",
    "    return y_hat"
   ]
  },
  {
   "cell_type": "code",
   "execution_count": 188,
   "id": "88be412a",
   "metadata": {},
   "outputs": [
    {
     "data": {
      "text/plain": [
       "array([300.00441848, 340.00298863, 499.99726923])"
      ]
     },
     "execution_count": 188,
     "metadata": {},
     "output_type": "execute_result"
    }
   ],
   "source": [
    "x_pred=np.array([1.0,1.2,2.0]) # house size in 100 square feet\n",
    "predict(x_pred)"
   ]
  },
  {
   "cell_type": "code",
   "execution_count": null,
   "id": "16e5a3dd",
   "metadata": {},
   "outputs": [],
   "source": []
  }
 ],
 "metadata": {
  "kernelspec": {
   "display_name": "Python 3",
   "language": "python",
   "name": "python3"
  },
  "language_info": {
   "codemirror_mode": {
    "name": "ipython",
    "version": 3
   },
   "file_extension": ".py",
   "mimetype": "text/x-python",
   "name": "python",
   "nbconvert_exporter": "python",
   "pygments_lexer": "ipython3",
   "version": "3.8.8"
  }
 },
 "nbformat": 4,
 "nbformat_minor": 5
}
